{
 "cells": [
  {
   "cell_type": "code",
   "execution_count": 1,
   "id": "7ea709ec",
   "metadata": {},
   "outputs": [],
   "source": [
    "import torch\n",
    "torch.cuda.empty_cache()"
   ]
  },
  {
   "cell_type": "code",
   "execution_count": 2,
   "id": "8fca9d5b",
   "metadata": {},
   "outputs": [],
   "source": [
    "import warnings\n",
    "warnings.filterwarnings('ignore')\n",
    "from custom_models.clip_class import I_T_ContrastiveLoss, clip_for_meme\n",
    "\n",
    "\n"
   ]
  },
  {
   "cell_type": "code",
   "execution_count": 3,
   "id": "84cd2eb6",
   "metadata": {},
   "outputs": [],
   "source": [
    "import CLIP_classifier2 as clip_c"
   ]
  },
  {
   "cell_type": "code",
   "execution_count": null,
   "id": "ef073a7f",
   "metadata": {
    "scrolled": true
   },
   "outputs": [
    {
     "name": "stdout",
     "output_type": "stream",
     "text": [
      "\n",
      " \t ----------- Model = BertDistilled-DINOv2-CLIP ------------\n"
     ]
    },
    {
     "name": "stderr",
     "output_type": "stream",
     "text": [
      "Using cache found in /home/yiyangl/.cache/torch/hub/facebookresearch_dinov2_main\n"
     ]
    },
    {
     "name": "stdout",
     "output_type": "stream",
     "text": [
      "\n",
      " \t Running on CPU.\n",
      "\n",
      " \t ----------- Model Loaded------------\n",
      "\n",
      " \t ------------ loading epoch  4  ------------\n",
      "\n",
      " \t ----------- Model Loaded------------\n",
      "\t *Total Params* =  162580481\n",
      "\t *Trainable Params* =  9637121\n",
      "train_loss =  0.24561317265033722\n"
     ]
    },
    {
     "name": "stdout",
     "output_type": "stream",
     "text": [
      "train_loss =  0.6831084489822388\n",
      "\n",
      "\t Epoch :  6\n",
      "\n",
      "\t Accuracy :  0.6978\n",
      "\n",
      "\t AUROC :  0.8179\n",
      "\t Training loss:  0.6175\n",
      "\t Training time current epoch:  6107.61 seconds\n"
     ]
    }
   ],
   "source": [
    "#testrun!\n",
    "\n",
    "clip_c.train(batch_size = 96, epochs=6,load = 4, ratio = 1, loss = 1)"
   ]
  },
  {
   "cell_type": "code",
   "execution_count": 5,
   "id": "24d98555",
   "metadata": {},
   "outputs": [
    {
     "name": "stdout",
     "output_type": "stream",
     "text": [
      "\n",
      " \t ----------- Model = BertDistilled-DINOv2-CLIP ------------\n"
     ]
    },
    {
     "name": "stderr",
     "output_type": "stream",
     "text": [
      "Using cache found in /home/yiyangl/.cache/torch/hub/facebookresearch_dinov2_main\n"
     ]
    },
    {
     "name": "stdout",
     "output_type": "stream",
     "text": [
      "\n",
      " \t Running on CPU.\n",
      "\n",
      " \t ----------- Model Loaded------------\n",
      "\n",
      " \t ------------ loading epoch  6  ------------\n",
      "\n",
      " \t ----------- Model Loaded------------\n",
      "\t *Total Params* =  162580481\n",
      "\t *Trainable Params* =  9637121\n"
     ]
    },
    {
     "name": "stdout",
     "output_type": "stream",
     "text": [
      "train_loss =  0.7091\n",
      "\n",
      "\t Epoch :  8\n",
      "\n",
      "\t Accuracy :  0.7213\n",
      "\n",
      "\t AUROC :  0.8202\n",
      "\n",
      "\t f1 :  0.6501\n",
      "\t Training loss:  0.7092\n",
      "\t Training time current epoch:  6323.42 seconds\n"
     ]
    },
    {
     "name": "stdout",
     "output_type": "stream",
     "text": []
    },
    {
     "name": "stdout",
     "output_type": "stream",
     "text": [
      "train_loss =  0.6744143104553223\n",
      "\n",
      "\t Epoch :  9\n",
      "\n",
      "\t Accuracy :  0.7603\n",
      "\n",
      "\t AUROC :  0.8197\n",
      "\n",
      "\t f1 :  0.6471\n",
      "\t Training loss:  0.6744\n",
      "\t Training time current epoch:  6361.75 seconds\n",
      "f1: 0.6392\n",
      "AUROC: 0.7969 \n",
      "prediction loss: 0.6495817518234253  accuracy:  0.7436 auroc 0.7969 f1 0.6392\n"
     ]
    }
   ],
   "source": [
    "# RUN!!!!! \n",
    "clip_c.train(batch_size = 96, epochs=9,load = 6, ratio = 1, loss = 1)"
   ]
  },
  {
   "cell_type": "code",
   "execution_count": null,
   "id": "1af9fdfe",
   "metadata": {},
   "outputs": [],
   "source": []
  }
 ],
 "metadata": {
  "kernelspec": {
   "display_name": "Python 3 (ipykernel)",
   "language": "python",
   "name": "python3"
  },
  "language_info": {
   "codemirror_mode": {
    "name": "ipython",
    "version": 3
   },
   "file_extension": ".py",
   "mimetype": "text/x-python",
   "name": "python",
   "nbconvert_exporter": "python",
   "pygments_lexer": "ipython3",
   "version": "3.9.19"
  }
 },
 "nbformat": 4,
 "nbformat_minor": 5
}
