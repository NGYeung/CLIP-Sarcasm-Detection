{
 "cells": [
  {
   "cell_type": "code",
   "execution_count": null,
   "id": "054a3612",
   "metadata": {},
   "outputs": [],
   "source": [
    "# Yiyang Liu\n",
    "# July 20, 2024\n",
    "# For Visualizing word-embeddings"
   ]
  },
  {
   "cell_type": "code",
   "execution_count": null,
   "id": "b1ca2534",
   "metadata": {},
   "outputs": [],
   "source": [
    "# variables: vocab[list]\n",
    "# word-embeddings[list]\n",
    "\n",
    "from sklearn.pipeline import Pipeline\n",
    "from sklearn.preprocessing import FunctionTransformer\n",
    "from sklearn.decomposition import PCA\n",
    "\n"
   ]
  },
  {
   "cell_type": "code",
   "execution_count": null,
   "id": "0b02a407",
   "metadata": {},
   "outputs": [],
   "source": [
    "TD = PCA(n_components = 2)\n",
    "x,y = TD.fit_transform(word_embeddings).T"
   ]
  },
  {
   "cell_type": "code",
   "execution_count": null,
   "id": "bfcc5b8b",
   "metadata": {},
   "outputs": [],
   "source": [
    "idx = np.random.randint(0,len(x),size = 600) # select size = 600 random words to displaty\n",
    "#print(idx)\n",
    "fig, ax = plt.subplots(figsize=(8, 8))\n",
    "ax.scatter(x[idx],y[idx], c='k',s = 3) # c = color, s = marker size\n",
    "\n",
    "for i in idx:\n",
    "    ax.annotate(\n",
    "        vocab[i],\n",
    "        (x[i], y[i]),\n",
    "        xytext=(2, 2),\n",
    "        textcoords='offset points',fontsize = 6\n",
    "    )\n",
    "\n",
    "plt.title('word embeddings')\n",
    "plt.xlabel('x')\n",
    "plt.ylabel('y')\n",
    "plt.show()"
   ]
  }
 ],
 "metadata": {
  "kernelspec": {
   "display_name": "conda-env",
   "language": "python",
   "name": "conda-env"
  },
  "language_info": {
   "codemirror_mode": {
    "name": "ipython",
    "version": 3
   },
   "file_extension": ".py",
   "mimetype": "text/x-python",
   "name": "python",
   "nbconvert_exporter": "python",
   "pygments_lexer": "ipython3",
   "version": "3.9.19"
  }
 },
 "nbformat": 4,
 "nbformat_minor": 5
}
